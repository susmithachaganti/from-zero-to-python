{
  "nbformat": 4,
  "nbformat_minor": 0,
  "metadata": {
    "colab": {
      "provenance": [],
      "authorship_tag": "ABX9TyM0xM/Wwq5b8u7YEWeV6r9K",
      "include_colab_link": true
    },
    "kernelspec": {
      "name": "python3",
      "display_name": "Python 3"
    },
    "language_info": {
      "name": "python"
    }
  },
  "cells": [
    {
      "cell_type": "markdown",
      "metadata": {
        "id": "view-in-github",
        "colab_type": "text"
      },
      "source": [
        "<a href=\"https://colab.research.google.com/github/susmithachaganti/from-zero-to-python/blob/main/Beginner_Level_.ipynb\" target=\"_parent\"><img src=\"https://colab.research.google.com/assets/colab-badge.svg\" alt=\"Open In Colab\"/></a>"
      ]
    },
    {
      "cell_type": "markdown",
      "source": [
        "**1.\tPrint \"Hello, World!\"**"
      ],
      "metadata": {
        "id": "5ZKQoiOPVN3_"
      }
    },
    {
      "cell_type": "code",
      "execution_count": 2,
      "metadata": {
        "colab": {
          "base_uri": "https://localhost:8080/"
        },
        "id": "zcg9EQBoUq7h",
        "outputId": "9eca8c70-dfd9-42ae-8c95-4cc65e7ba364"
      },
      "outputs": [
        {
          "output_type": "stream",
          "name": "stdout",
          "text": [
            "Hello,World!\n",
            "Let's Start This Journey!\n"
          ]
        }
      ],
      "source": [
        "print(\"Hello,World!\")\n",
        "print(\"Let's Start This Journey!\")"
      ]
    },
    {
      "cell_type": "markdown",
      "source": [
        "**2.\tSum of two numbers**"
      ],
      "metadata": {
        "id": "i7VFqbP4V3UK"
      }
    },
    {
      "cell_type": "code",
      "source": [
        "a = 10\n",
        "b = 20\n",
        "print(a+b)"
      ],
      "metadata": {
        "colab": {
          "base_uri": "https://localhost:8080/"
        },
        "id": "tXP8vkRlWDtq",
        "outputId": "017e1246-1018-4038-9f59-8123311cb6b3"
      },
      "execution_count": 3,
      "outputs": [
        {
          "output_type": "stream",
          "name": "stdout",
          "text": [
            "30\n"
          ]
        }
      ]
    }
  ]
}