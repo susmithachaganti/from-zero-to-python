{
  "nbformat": 4,
  "nbformat_minor": 0,
  "metadata": {
    "colab": {
      "provenance": [],
      "authorship_tag": "ABX9TyNnOoOhcvat3ZdtvNazNXrv",
      "include_colab_link": true
    },
    "kernelspec": {
      "name": "python3",
      "display_name": "Python 3"
    },
    "language_info": {
      "name": "python"
    }
  },
  "cells": [
    {
      "cell_type": "markdown",
      "metadata": {
        "id": "view-in-github",
        "colab_type": "text"
      },
      "source": [
        "<a href=\"https://colab.research.google.com/github/susmithachaganti/from-zero-to-python/blob/main/Beginner_Level_.ipynb\" target=\"_parent\"><img src=\"https://colab.research.google.com/assets/colab-badge.svg\" alt=\"Open In Colab\"/></a>"
      ]
    },
    {
      "cell_type": "markdown",
      "source": [
        "**1.\tPrint \"Hello, World!\"**"
      ],
      "metadata": {
        "id": "5ZKQoiOPVN3_"
      }
    },
    {
      "cell_type": "code",
      "execution_count": null,
      "metadata": {
        "colab": {
          "base_uri": "https://localhost:8080/"
        },
        "id": "zcg9EQBoUq7h",
        "outputId": "9eca8c70-dfd9-42ae-8c95-4cc65e7ba364"
      },
      "outputs": [
        {
          "output_type": "stream",
          "name": "stdout",
          "text": [
            "Hello,World!\n",
            "Let's Start This Journey!\n"
          ]
        }
      ],
      "source": [
        "print(\"Hello,World!\")\n",
        "print(\"Let's Start This Journey!\")"
      ]
    },
    {
      "cell_type": "markdown",
      "source": [
        "**2.\tSum of two numbers**"
      ],
      "metadata": {
        "id": "i7VFqbP4V3UK"
      }
    },
    {
      "cell_type": "code",
      "source": [
        "a = 10\n",
        "b = 20\n",
        "print(a+b)"
      ],
      "metadata": {
        "colab": {
          "base_uri": "https://localhost:8080/"
        },
        "id": "tXP8vkRlWDtq",
        "outputId": "017e1246-1018-4038-9f59-8123311cb6b3"
      },
      "execution_count": null,
      "outputs": [
        {
          "output_type": "stream",
          "name": "stdout",
          "text": [
            "30\n"
          ]
        }
      ]
    },
    {
      "cell_type": "markdown",
      "source": [
        "**3.\tMaximum of two numbers**"
      ],
      "metadata": {
        "id": "yePL1YDhgmaI"
      }
    },
    {
      "cell_type": "code",
      "source": [
        "def find_maximum(num1, num2):\n",
        "  if num1 > num2:\n",
        "    return num1\n",
        "  else:\n",
        "    return num2\n",
        "num1=int(input())\n",
        "num2=int(input())\n",
        "print(find_maximum(num1,num2))"
      ],
      "metadata": {
        "id": "T4b4vZYmgrLA",
        "colab": {
          "base_uri": "https://localhost:8080/"
        },
        "outputId": "903f9cf8-04fd-4bbc-8037-fcd637ba5df7"
      },
      "execution_count": 2,
      "outputs": [
        {
          "output_type": "stream",
          "name": "stdout",
          "text": [
            "10\n",
            "20\n",
            "20\n"
          ]
        }
      ]
    },
    {
      "cell_type": "markdown",
      "source": [
        "**4.\tCheck even or odd**"
      ],
      "metadata": {
        "id": "SbiwnqgogkoG"
      }
    },
    {
      "cell_type": "code",
      "source": [
        "num = int(input())\n",
        "if num %2 == 0:\n",
        "  print(\"Even\");\n",
        "else:\n",
        "  print(\"Odd\");"
      ],
      "metadata": {
        "colab": {
          "base_uri": "https://localhost:8080/"
        },
        "id": "gAPRT-V4hB0I",
        "outputId": "8b96298c-68d8-43bf-f49e-25e98fe12c39"
      },
      "execution_count": 3,
      "outputs": [
        {
          "output_type": "stream",
          "name": "stdout",
          "text": [
            "8\n",
            "Even\n"
          ]
        }
      ]
    },
    {
      "cell_type": "markdown",
      "source": [
        "**5.\tCheck prime number**"
      ],
      "metadata": {
        "id": "dzvnW77mhpyd"
      }
    },
    {
      "cell_type": "code",
      "source": [
        "n = int(input(\"Enter a number: \"))\n",
        "if n > 1:\n",
        "    for i in range(2, int(n**0.5) + 1):\n",
        "        if n % i == 0:\n",
        "            print(\"Not Prime\")\n",
        "            break\n",
        "    else:\n",
        "        print(\"Prime\")\n",
        "else:\n",
        "    print(\"Not Prime\")\n"
      ],
      "metadata": {
        "colab": {
          "base_uri": "https://localhost:8080/"
        },
        "id": "0OrTkRZZhUln",
        "outputId": "4af50724-c780-4132-80ed-3dfb3825b971"
      },
      "execution_count": 4,
      "outputs": [
        {
          "output_type": "stream",
          "name": "stdout",
          "text": [
            "Enter a number: 25\n",
            "Not Prime\n"
          ]
        }
      ]
    },
    {
      "cell_type": "markdown",
      "source": [
        "**6.\tFind factorial of a number**"
      ],
      "metadata": {
        "id": "ZajD_jKeieut"
      }
    },
    {
      "cell_type": "code",
      "source": [
        "def factorial(number):\n",
        "    if number == 0:\n",
        "        return 1\n",
        "    else:\n",
        "        return number * factorial(number - 1)\n",
        "\n",
        "number = int(input(\"Enter a number: \"))\n",
        "print(factorial(number))\n",
        "\n"
      ],
      "metadata": {
        "colab": {
          "base_uri": "https://localhost:8080/"
        },
        "id": "WGbq_v6Zl3md",
        "outputId": "b4957593-5067-4554-a26a-dfc6fe6dcea2"
      },
      "execution_count": 9,
      "outputs": [
        {
          "output_type": "stream",
          "name": "stdout",
          "text": [
            "Enter a number: 5\n",
            "120\n"
          ]
        }
      ]
    }
  ]
}