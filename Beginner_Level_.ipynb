{
  "nbformat": 4,
  "nbformat_minor": 0,
  "metadata": {
    "colab": {
      "provenance": [],
      "authorship_tag": "ABX9TyMm0I+YW4MMbYV8I4kzA95F",
      "include_colab_link": true
    },
    "kernelspec": {
      "name": "python3",
      "display_name": "Python 3"
    },
    "language_info": {
      "name": "python"
    }
  },
  "cells": [
    {
      "cell_type": "markdown",
      "metadata": {
        "id": "view-in-github",
        "colab_type": "text"
      },
      "source": [
        "<a href=\"https://colab.research.google.com/github/susmithachaganti/from-zero-to-python/blob/main/Beginner_Level_.ipynb\" target=\"_parent\"><img src=\"https://colab.research.google.com/assets/colab-badge.svg\" alt=\"Open In Colab\"/></a>"
      ]
    },
    {
      "cell_type": "markdown",
      "source": [
        "**1.\tPrint \"Hello, World!\"**"
      ],
      "metadata": {
        "id": "5ZKQoiOPVN3_"
      }
    },
    {
      "cell_type": "code",
      "execution_count": null,
      "metadata": {
        "colab": {
          "base_uri": "https://localhost:8080/"
        },
        "id": "zcg9EQBoUq7h",
        "outputId": "9eca8c70-dfd9-42ae-8c95-4cc65e7ba364"
      },
      "outputs": [
        {
          "output_type": "stream",
          "name": "stdout",
          "text": [
            "Hello,World!\n",
            "Let's Start This Journey!\n"
          ]
        }
      ],
      "source": [
        "print(\"Hello,World!\")\n",
        "print(\"Let's Start This Journey!\")"
      ]
    },
    {
      "cell_type": "markdown",
      "source": [
        "**2.\tSum of two numbers**"
      ],
      "metadata": {
        "id": "i7VFqbP4V3UK"
      }
    },
    {
      "cell_type": "code",
      "source": [
        "a = 10\n",
        "b = 20\n",
        "print(a+b)"
      ],
      "metadata": {
        "colab": {
          "base_uri": "https://localhost:8080/"
        },
        "id": "tXP8vkRlWDtq",
        "outputId": "017e1246-1018-4038-9f59-8123311cb6b3"
      },
      "execution_count": null,
      "outputs": [
        {
          "output_type": "stream",
          "name": "stdout",
          "text": [
            "30\n"
          ]
        }
      ]
    },
    {
      "cell_type": "markdown",
      "source": [
        "**3.\tMaximum of two numbers**"
      ],
      "metadata": {
        "id": "yePL1YDhgmaI"
      }
    },
    {
      "cell_type": "code",
      "source": [
        "def find_maximum(num1, num2):\n",
        "  if num1 > num2:\n",
        "    return num1\n",
        "  else:\n",
        "    return num2\n",
        "num1=int(input())\n",
        "num2=int(input())\n",
        "print(find_maximum(num1,num2))"
      ],
      "metadata": {
        "id": "T4b4vZYmgrLA",
        "colab": {
          "base_uri": "https://localhost:8080/"
        },
        "outputId": "903f9cf8-04fd-4bbc-8037-fcd637ba5df7"
      },
      "execution_count": null,
      "outputs": [
        {
          "output_type": "stream",
          "name": "stdout",
          "text": [
            "10\n",
            "20\n",
            "20\n"
          ]
        }
      ]
    },
    {
      "cell_type": "markdown",
      "source": [
        "**4.\tCheck even or odd**"
      ],
      "metadata": {
        "id": "SbiwnqgogkoG"
      }
    },
    {
      "cell_type": "code",
      "source": [
        "num = int(input())\n",
        "if num %2 == 0:\n",
        "  print(\"Even\");\n",
        "else:\n",
        "  print(\"Odd\");"
      ],
      "metadata": {
        "colab": {
          "base_uri": "https://localhost:8080/"
        },
        "id": "gAPRT-V4hB0I",
        "outputId": "8b96298c-68d8-43bf-f49e-25e98fe12c39"
      },
      "execution_count": null,
      "outputs": [
        {
          "output_type": "stream",
          "name": "stdout",
          "text": [
            "8\n",
            "Even\n"
          ]
        }
      ]
    },
    {
      "cell_type": "markdown",
      "source": [
        "**5.\tCheck prime number**"
      ],
      "metadata": {
        "id": "dzvnW77mhpyd"
      }
    },
    {
      "cell_type": "code",
      "source": [
        "n = int(input(\"Enter a number: \"))\n",
        "if n > 1:\n",
        "    for i in range(2, int(n**0.5) + 1):\n",
        "        if n % i == 0:\n",
        "            print(\"Not Prime\")\n",
        "            break\n",
        "    else:\n",
        "        print(\"Prime\")\n",
        "else:\n",
        "    print(\"Not Prime\")\n"
      ],
      "metadata": {
        "colab": {
          "base_uri": "https://localhost:8080/"
        },
        "id": "0OrTkRZZhUln",
        "outputId": "4af50724-c780-4132-80ed-3dfb3825b971"
      },
      "execution_count": null,
      "outputs": [
        {
          "output_type": "stream",
          "name": "stdout",
          "text": [
            "Enter a number: 25\n",
            "Not Prime\n"
          ]
        }
      ]
    },
    {
      "cell_type": "markdown",
      "source": [
        "**6.\tFind factorial of a number**"
      ],
      "metadata": {
        "id": "ZajD_jKeieut"
      }
    },
    {
      "cell_type": "code",
      "source": [
        "def factorial(number):\n",
        "    if number == 0:\n",
        "        return 1\n",
        "    else:\n",
        "        return number * factorial(number - 1)\n",
        "\n",
        "number = int(input(\"Enter a number: \"))\n",
        "print(factorial(number))\n",
        "\n"
      ],
      "metadata": {
        "colab": {
          "base_uri": "https://localhost:8080/"
        },
        "id": "WGbq_v6Zl3md",
        "outputId": "b4957593-5067-4554-a26a-dfc6fe6dcea2"
      },
      "execution_count": null,
      "outputs": [
        {
          "output_type": "stream",
          "name": "stdout",
          "text": [
            "Enter a number: 5\n",
            "120\n"
          ]
        }
      ]
    },
    {
      "cell_type": "markdown",
      "source": [
        "**7.\tFibonacci sequence up to n**"
      ],
      "metadata": {
        "id": "9YyGa7GRkZ2c"
      }
    },
    {
      "cell_type": "code",
      "source": [
        "n = 10  # how many terms\n",
        "a, b = 0, 1\n",
        "\n",
        "for _ in range(n):\n",
        "    print(a, end=\" \")\n",
        "    a, b = b, a + b"
      ],
      "metadata": {
        "id": "hHPwC-A739YP",
        "colab": {
          "base_uri": "https://localhost:8080/"
        },
        "outputId": "e2e79c7b-aef5-49b1-f883-6e313f04b0a6"
      },
      "execution_count": null,
      "outputs": [
        {
          "output_type": "stream",
          "name": "stdout",
          "text": [
            "0 1 1 2 3 5 8 13 21 34 "
          ]
        }
      ]
    },
    {
      "cell_type": "markdown",
      "source": [
        "**8.\tReverse a number**"
      ],
      "metadata": {
        "id": "U5fEdVr7lUux"
      }
    },
    {
      "cell_type": "code",
      "source": [
        "num = int(input())\n",
        "rev_num = int(str(num)[::-1])\n",
        "print(rev_num)\n"
      ],
      "metadata": {
        "colab": {
          "base_uri": "https://localhost:8080/"
        },
        "id": "qgTRhFq8k-p4",
        "outputId": "418abf5c-b053-43e8-b2cc-12c0977a8b32"
      },
      "execution_count": null,
      "outputs": [
        {
          "output_type": "stream",
          "name": "stdout",
          "text": [
            "56\n",
            "65\n"
          ]
        }
      ]
    },
    {
      "cell_type": "code",
      "source": [
        "num = int(input())\n",
        "rev_num = 0\n",
        "\n",
        "while num > 0:\n",
        "    digit = num % 10       # get last digit\n",
        "    rev_num = rev_num * 10 + digit  # append to reversed number\n",
        "    num = num // 10        # remove last digit\n",
        "\n",
        "print(\"Reversed Number:\", rev_num)\n"
      ],
      "metadata": {
        "colab": {
          "base_uri": "https://localhost:8080/"
        },
        "id": "U3lfVKuvlrTR",
        "outputId": "a1d6d241-36f2-4b2b-a99b-2e6e156cb82c"
      },
      "execution_count": null,
      "outputs": [
        {
          "output_type": "stream",
          "name": "stdout",
          "text": [
            "245568\n",
            "Reversed Number: 865542\n"
          ]
        }
      ]
    },
    {
      "cell_type": "markdown",
      "source": [
        "9.\tPalindrome number"
      ],
      "metadata": {
        "id": "tedXusz5mA6U"
      }
    },
    {
      "cell_type": "code",
      "source": [
        "n=int(input(\"Enter a number:\"))\n",
        "num=n\n",
        "rev=0\n",
        "remainder=0\n",
        "while(n!=0):\n",
        "    remainder=n%10\n",
        "    rev=rev*10+remainder\n",
        "    n=n//10\n",
        "if num==rev:\n",
        "    print(f\"It is a palindrome Number:{rev}\")\n",
        "else:\n",
        "    print(\"It is not a palindrome\")"
      ],
      "metadata": {
        "id": "pMsLzSmil74A",
        "colab": {
          "base_uri": "https://localhost:8080/"
        },
        "outputId": "9a1cf987-572e-4f70-8f38-4c97d14b1dc7"
      },
      "execution_count": 1,
      "outputs": [
        {
          "output_type": "stream",
          "name": "stdout",
          "text": [
            "Enter a number:345\n",
            "It is not a palindrome\n"
          ]
        }
      ]
    },
    {
      "cell_type": "markdown",
      "source": [
        "**10.\tCount digits in a number**"
      ],
      "metadata": {
        "id": "yYKAjqXjfOPg"
      }
    },
    {
      "cell_type": "code",
      "source": [
        "num = int(input(\"Enter a number: \"))\n",
        "\n",
        "count = 0\n",
        "temp = num  # store original number for reference\n",
        "\n",
        "while temp > 0:\n",
        "    temp //= 10   # remove the last digit\n",
        "    count += 1    # increase the count\n",
        "\n",
        "print(\"Number of digits in\", num, \"is\", count)\n"
      ],
      "metadata": {
        "colab": {
          "base_uri": "https://localhost:8080/"
        },
        "id": "i66keQzhfXEc",
        "outputId": "8dcb70bc-e1fe-4002-fec4-ac9d11ca508c"
      },
      "execution_count": 2,
      "outputs": [
        {
          "output_type": "stream",
          "name": "stdout",
          "text": [
            "Enter a number: 81326\n",
            "Number of digits in 81326 is 5\n"
          ]
        }
      ]
    }
  ]
}