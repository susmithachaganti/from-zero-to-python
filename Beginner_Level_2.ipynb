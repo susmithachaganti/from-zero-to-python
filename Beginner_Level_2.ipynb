{
  "nbformat": 4,
  "nbformat_minor": 0,
  "metadata": {
    "colab": {
      "provenance": [],
      "authorship_tag": "ABX9TyMuCVrXfn5k0svOTmSS9TxA",
      "include_colab_link": true
    },
    "kernelspec": {
      "name": "python3",
      "display_name": "Python 3"
    },
    "language_info": {
      "name": "python"
    }
  },
  "cells": [
    {
      "cell_type": "markdown",
      "metadata": {
        "id": "view-in-github",
        "colab_type": "text"
      },
      "source": [
        "<a href=\"https://colab.research.google.com/github/susmithachaganti/from-zero-to-python/blob/main/Beginner_Level_2.ipynb\" target=\"_parent\"><img src=\"https://colab.research.google.com/assets/colab-badge.svg\" alt=\"Open In Colab\"/></a>"
      ]
    },
    {
      "cell_type": "markdown",
      "source": [
        "**16.\tSwap two numbers without temp variable**\n"
      ],
      "metadata": {
        "id": "DvjsVir0sZxZ"
      }
    },
    {
      "cell_type": "code",
      "source": [
        "a = int(input(\"Enter first number: \"))\n",
        "b = int(input(\"Enter second number: \"))\n",
        "\n",
        "print(f\"Before swapping: a = {a}, b = {b}\")\n",
        "\n",
        "a, b = b, a\n",
        "\n",
        "print(f\"After swapping: a = {a}, b = {b}\")\n"
      ],
      "metadata": {
        "colab": {
          "base_uri": "https://localhost:8080/"
        },
        "id": "pGi60YDUskgc",
        "outputId": "fddd5648-c7c4-40e1-e336-9d7a57a8b023"
      },
      "execution_count": 2,
      "outputs": [
        {
          "output_type": "stream",
          "name": "stdout",
          "text": [
            "Enter first number: 5\n",
            "Enter second number: 10\n",
            "Before swapping: a = 5, b = 10\n",
            "After swapping: a = 10, b = 5\n"
          ]
        }
      ]
    },
    {
      "cell_type": "markdown",
      "source": [
        "**17.\tConvert Celsius to Fahrenheit**"
      ],
      "metadata": {
        "id": "xOoWO48pwPyW"
      }
    },
    {
      "cell_type": "code",
      "source": [
        "celsius = float(input(\"Enter temperature in Celsius: \"))\n",
        "\n",
        "# Conversion formula\n",
        "fahrenheit = (celsius * 9/5) + 32\n",
        "\n",
        "print(f\"{celsius}°C is equal to {fahrenheit}°F\")\n"
      ],
      "metadata": {
        "colab": {
          "base_uri": "https://localhost:8080/"
        },
        "id": "_gKAl7qwwPb-",
        "outputId": "43d9b92f-cc8b-494a-850a-5766a14c67d2"
      },
      "execution_count": 3,
      "outputs": [
        {
          "output_type": "stream",
          "name": "stdout",
          "text": [
            "Enter temperature in Celsius: 37\n",
            "37.0°C is equal to 98.6°F\n"
          ]
        }
      ]
    },
    {
      "cell_type": "markdown",
      "source": [
        "**18.\tCheck leap year**"
      ],
      "metadata": {
        "id": "w5z_X3ZbgLG4"
      }
    },
    {
      "cell_type": "code",
      "source": [
        "year = int(input(\"Enter a year: \"))\n",
        "\n",
        "# Logic\n",
        "if (year % 400 == 0) or (year % 4 == 0 and year % 100 != 0):\n",
        "    print(f\"{year} is a Leap Year ✅\")\n",
        "else:\n",
        "    print(f\"{year} is NOT a Leap Year ❌\")\n"
      ],
      "metadata": {
        "colab": {
          "base_uri": "https://localhost:8080/"
        },
        "id": "eAV6KgAi40Yk",
        "outputId": "456f5c73-5128-49d2-d2be-3848ea203af0"
      },
      "execution_count": 4,
      "outputs": [
        {
          "output_type": "stream",
          "name": "stdout",
          "text": [
            "Enter a year: 2025\n",
            "2025 is NOT a Leap Year ❌\n"
          ]
        }
      ]
    },
    {
      "cell_type": "markdown",
      "source": [
        "**19. Calculator using functions**"
      ],
      "metadata": {
        "id": "IGIUVV8u44qQ"
      }
    },
    {
      "cell_type": "code",
      "source": [
        "def add(x, y):\n",
        "    return x + y\n",
        "\n",
        "def subtract(x, y):\n",
        "    return x - y\n",
        "\n",
        "def multiply(x, y):\n",
        "    return x * y\n",
        "\n",
        "def divide(x, y):\n",
        "    return x / y\n",
        "\n",
        "print(\"Select operation.\")\n",
        "print(\"1.Add\")\n",
        "print(\"2.Subtract\")\n",
        "print(\"3.Multiply\")\n",
        "print(\"4.Divide\")\n",
        "\n",
        "while True:\n",
        "    # take input from the user\n",
        "    choice = input(\"Enter choice(1/2/3/4): \")\n",
        "\n",
        "    # check if choice is one of the four options\n",
        "    if choice in ('1', '2', '3', '4'):\n",
        "        try:\n",
        "            num1 = float(input(\"Enter first number: \"))\n",
        "            num2 = float(input(\"Enter second number: \"))\n",
        "        except ValueError:\n",
        "            print(\"Invalid input. Please enter a number.\")\n",
        "            continue\n",
        "\n",
        "        if choice == '1':\n",
        "            print(num1, \"+\", num2, \"=\", add(num1, num2))\n",
        "\n",
        "        elif choice == '2':\n",
        "            print(num1, \"-\", num2, \"=\", subtract(num1, num2))\n",
        "\n",
        "        elif choice == '3':\n",
        "            print(num1, \"*\", num2, \"=\", multiply(num1, num2))\n",
        "\n",
        "        elif choice == '4':\n",
        "            print(num1, \"/\", num2, \"=\", divide(num1, num2))\n",
        "            2\n",
        "        next_calculation = input(\"Let's do next calculation? (yes/no): \")\n",
        "        if next_calculation == \"no\":\n",
        "          break\n",
        "    else:\n",
        "        print(\"Invalid Input\")"
      ],
      "metadata": {
        "colab": {
          "base_uri": "https://localhost:8080/"
        },
        "id": "JQ_Wj5of8cHp",
        "outputId": "8b1cb36f-d13f-4979-e92e-20138b8f9d75"
      },
      "execution_count": 7,
      "outputs": [
        {
          "name": "stdout",
          "output_type": "stream",
          "text": [
            "Select operation.\n",
            "1.Add\n",
            "2.Subtract\n",
            "3.Multiply\n",
            "4.Divide\n",
            "Enter choice(1/2/3/4): 2\n",
            "Enter first number: 20\n",
            "Enter second number: 15\n",
            "20.0 - 15.0 = 5.0\n",
            "Let's do next calculation? (yes/no): no\n"
          ]
        }
      ]
    },
    {
      "cell_type": "markdown",
      "source": [
        "**20.\tASCII value of a character**"
      ],
      "metadata": {
        "id": "WKAcJ3w98vYE"
      }
    },
    {
      "cell_type": "code",
      "source": [
        "# Program to find ASCII value of a character\n",
        "\n",
        "# Input\n",
        "ch = input(\"Enter a character: \")\n",
        "\n",
        "# Ensure only one character is entered\n",
        "if len(ch) == 1:\n",
        "    print(f\"The ASCII value of '{ch}' is {ord(ch)}\")\n",
        "else:\n",
        "    print(\"Please enter only a single character!\")\n"
      ],
      "metadata": {
        "colab": {
          "base_uri": "https://localhost:8080/"
        },
        "id": "rplbETMM9DSr",
        "outputId": "8d7aa241-9178-46d8-bade-f88521a2b4dd"
      },
      "execution_count": 8,
      "outputs": [
        {
          "output_type": "stream",
          "name": "stdout",
          "text": [
            "Enter a character: S\n",
            "The ASCII value of 'S' is 83\n"
          ]
        }
      ]
    },
    {
      "cell_type": "markdown",
      "source": [
        "**21.\tNumber to binary, octal, and hexadecimal**"
      ],
      "metadata": {
        "id": "O-YNUMlwes84"
      }
    },
    {
      "cell_type": "code",
      "source": [
        "num = int(input(\"Enter a number: \"))\n",
        "\n",
        "# Conversions\n",
        "binary = bin(num)\n",
        "octal = oct(num)\n",
        "hexa = hex(num)\n",
        "\n",
        "print(f\"Decimal: {num}\")\n",
        "print(f\"Binary: {binary[2:]}\")\n",
        "print(f\"Octal: {octal[2:]}\")\n",
        "print(f\"Hexadecimal: {hexa[2:].upper()}\")\n"
      ],
      "metadata": {
        "colab": {
          "base_uri": "https://localhost:8080/"
        },
        "id": "jDbfXaB1e1aM",
        "outputId": "2cafeef6-ec3c-4611-f099-fd6de98afcab"
      },
      "execution_count": 1,
      "outputs": [
        {
          "output_type": "stream",
          "name": "stdout",
          "text": [
            "Enter a number: 61\n",
            "Decimal: 61\n",
            "Binary: 111101\n",
            "Octal: 75\n",
            "Hexadecimal: 3D\n"
          ]
        }
      ]
    },
    {
      "cell_type": "markdown",
      "source": [
        "**22.\tSum of first n natural numbers**"
      ],
      "metadata": {
        "id": "VqERhGr8f-GT"
      }
    },
    {
      "cell_type": "code",
      "source": [
        "n=int(input(\"Enter a number : \"))\n",
        "sum=n*(n+1)//2\n",
        "print(f\"Sum of first {n} natural numbers  = {sum}\")"
      ],
      "metadata": {
        "colab": {
          "base_uri": "https://localhost:8080/"
        },
        "id": "pMtEM28X14I1",
        "outputId": "9e68a2fc-12d2-4dff-e33d-8f9bb161076b"
      },
      "execution_count": 2,
      "outputs": [
        {
          "output_type": "stream",
          "name": "stdout",
          "text": [
            "Enter a number : 10\n",
            "Sum of first 10 natural numbers  = 55\n"
          ]
        }
      ]
    },
    {
      "cell_type": "markdown",
      "source": [
        "**23.\tPrint star pattern (triangle, pyramid, etc.)**"
      ],
      "metadata": {
        "id": "c22Zch1X2U0r"
      }
    },
    {
      "cell_type": "code",
      "source": [
        "# Program to print star patterns\n",
        "\n",
        "# Input\n",
        "rows = int(input(\"Enter number of rows: \"))\n",
        "\n",
        "print(\"\\nRight-Angled Triangle Pattern:\")\n",
        "for i in range(1, rows + 1):\n",
        "    print(\"*\" * i)\n",
        "\n",
        "print(\"\\nInverted Triangle Pattern:\")\n",
        "for i in range(rows, 0, -1):\n",
        "    print(\"*\" * i)\n",
        "\n",
        "print(\"\\nPyramid Pattern:\")\n",
        "for i in range(1, rows + 1):\n",
        "    print(\" \" * (rows - i) + \"*\" * (2 * i - 1))\n",
        "\n",
        "print(\"\\nDiamond Pattern:\")\n",
        "for i in range(1, rows + 1):\n",
        "    print(\" \" * (rows - i) + \"*\" * (2 * i - 1))\n",
        "for i in range(rows - 1, 0, -1):\n",
        "    print(\" \" * (rows - i) + \"*\" * (2 * i - 1))\n"
      ],
      "metadata": {
        "colab": {
          "base_uri": "https://localhost:8080/"
        },
        "id": "FLqtCx7U2xjY",
        "outputId": "3f63e53d-3cca-4956-b8e7-722198e259c8"
      },
      "execution_count": 3,
      "outputs": [
        {
          "output_type": "stream",
          "name": "stdout",
          "text": [
            "Enter number of rows: 6\n",
            "\n",
            "Right-Angled Triangle Pattern:\n",
            "*\n",
            "**\n",
            "***\n",
            "****\n",
            "*****\n",
            "******\n",
            "\n",
            "Inverted Triangle Pattern:\n",
            "******\n",
            "*****\n",
            "****\n",
            "***\n",
            "**\n",
            "*\n",
            "\n",
            "Pyramid Pattern:\n",
            "     *\n",
            "    ***\n",
            "   *****\n",
            "  *******\n",
            " *********\n",
            "***********\n",
            "\n",
            "Diamond Pattern:\n",
            "     *\n",
            "    ***\n",
            "   *****\n",
            "  *******\n",
            " *********\n",
            "***********\n",
            " *********\n",
            "  *******\n",
            "   *****\n",
            "    ***\n",
            "     *\n"
          ]
        }
      ]
    },
    {
      "cell_type": "markdown",
      "source": [
        "**24.\tCount vowels and consonants**"
      ],
      "metadata": {
        "id": "dtWr7WuO202z"
      }
    },
    {
      "cell_type": "code",
      "source": [
        "def count_vowels_consonants(text):\n",
        "    vowels = \"aeiouAEIOU\"\n",
        "    v_count = 0\n",
        "    c_count = 0\n",
        "\n",
        "    for ch in text:\n",
        "        if ch.isalpha():  # check only alphabets\n",
        "            if ch in vowels:\n",
        "                v_count += 1\n",
        "            else:\n",
        "                c_count += 1\n",
        "\n",
        "    return v_count, c_count\n",
        "\n",
        "text = input(\"Enter a string: \")\n",
        "\n",
        "v, c = count_vowels_consonants(text)\n",
        "\n",
        "print(\"Vowels:\", v)\n",
        "print(\"Consonants:\", c)\n"
      ],
      "metadata": {
        "colab": {
          "base_uri": "https://localhost:8080/"
        },
        "id": "eEsJoFOP3IyW",
        "outputId": "d355cdbd-dc53-403e-8c5f-0c503bcde4f1"
      },
      "execution_count": 5,
      "outputs": [
        {
          "output_type": "stream",
          "name": "stdout",
          "text": [
            "Enter a string: Github\n",
            "Vowels: 2\n",
            "Consonants: 4\n"
          ]
        }
      ]
    },
    {
      "cell_type": "markdown",
      "source": [
        "**25.\tRemove punctuation from string**"
      ],
      "metadata": {
        "id": "bLGZpi_m3WDj"
      }
    },
    {
      "cell_type": "code",
      "source": [
        "import string\n",
        "\n",
        "text =  input(\"Enter a string with punctuation: \")\n",
        "translator = str.maketrans('', '', string.punctuation)\n",
        "clean_text = text.translate(translator)\n",
        "print(clean_text)"
      ],
      "metadata": {
        "colab": {
          "base_uri": "https://localhost:8080/"
        },
        "id": "-5Zitgz43e4L",
        "outputId": "95987d84-9505-4396-d126-9af80b540e46"
      },
      "execution_count": 6,
      "outputs": [
        {
          "output_type": "stream",
          "name": "stdout",
          "text": [
            "Enter a string with punctuation: Hello!!! How are you?? I'm fine\n",
            "Hello How are you Im fine\n"
          ]
        }
      ]
    },
    {
      "cell_type": "markdown",
      "source": [
        "**26.\tReverse a string**"
      ],
      "metadata": {
        "id": "yuOyaltL4BEe"
      }
    },
    {
      "cell_type": "code",
      "source": [
        "def reverse_string(text):\n",
        "    return text[::-1]\n",
        "text = input(\"Enter a string: \")\n",
        "print(\"Reverse String is : \", reverse_string(text))"
      ],
      "metadata": {
        "colab": {
          "base_uri": "https://localhost:8080/"
        },
        "id": "13CTr_3W4EQj",
        "outputId": "0e3bb4fd-fe16-4940-bbc9-6d3fc3277667"
      },
      "execution_count": 7,
      "outputs": [
        {
          "output_type": "stream",
          "name": "stdout",
          "text": [
            "Enter a string: Github\n",
            "Reverse String is :  buhtiG\n"
          ]
        }
      ]
    },
    {
      "cell_type": "markdown",
      "source": [
        "**27.\tCount words in a sentence**"
      ],
      "metadata": {
        "id": "OcjCWp0I4VJH"
      }
    },
    {
      "cell_type": "code",
      "source": [
        "sentence = input(\"Enter a sentence: \")\n",
        "\n",
        "words = sentence.split()\n",
        "\n",
        "count = len(words)\n",
        "\n",
        "print(\"Total words:\", count)"
      ],
      "metadata": {
        "colab": {
          "base_uri": "https://localhost:8080/"
        },
        "id": "5i-84vKI4YM5",
        "outputId": "f4330552-8545-4a15-a450-72866d5f9beb"
      },
      "execution_count": 8,
      "outputs": [
        {
          "output_type": "stream",
          "name": "stdout",
          "text": [
            "Enter a sentence: Learning Python\n",
            "Total words: 2\n"
          ]
        }
      ]
    },
    {
      "cell_type": "markdown",
      "source": [
        "**28.\tCapitalize first letter of each word**"
      ],
      "metadata": {
        "id": "aQIapqBH4qng"
      }
    },
    {
      "cell_type": "code",
      "source": [
        "sentence = input(\"Enter a sentence: \")\n",
        "\n",
        "result = sentence.title()\n",
        "\n",
        "print(\"Result:\", result)"
      ],
      "metadata": {
        "colab": {
          "base_uri": "https://localhost:8080/"
        },
        "id": "4bOaThg04uV4",
        "outputId": "13ea53e8-af62-4318-df76-d36b4df06b0f"
      },
      "execution_count": 9,
      "outputs": [
        {
          "output_type": "stream",
          "name": "stdout",
          "text": [
            "Enter a sentence: learning python\n",
            "Result: Learning Python\n"
          ]
        }
      ]
    },
    {
      "cell_type": "markdown",
      "source": [
        "**29.\tReplace substring in string**"
      ],
      "metadata": {
        "id": "dtcDIua846xI"
      }
    },
    {
      "cell_type": "code",
      "source": [
        "text = input(\"Enter a string: \")\n",
        "old_sub = input(\"Enter the substring to replace: \")\n",
        "new_sub = input(\"Enter the new substring: \")\n",
        "\n",
        "result = text.replace(old_sub, new_sub)\n",
        "\n",
        "print(\"Result:\", result)"
      ],
      "metadata": {
        "colab": {
          "base_uri": "https://localhost:8080/"
        },
        "id": "C2lAg9U54-BI",
        "outputId": "9f80889e-8389-403f-fc4f-ca8bd836a97c"
      },
      "execution_count": 10,
      "outputs": [
        {
          "output_type": "stream",
          "name": "stdout",
          "text": [
            "Enter a string: I love Python programming\n",
            "Enter the substring to replace: love\n",
            "Enter the new substring: am learning\n",
            "Result: I am learning Python programming\n"
          ]
        }
      ]
    },
    {
      "cell_type": "markdown",
      "source": [
        "**30.\tFind the frequency of characters**"
      ],
      "metadata": {
        "id": "_v5kL8Zh5Qd6"
      }
    },
    {
      "cell_type": "code",
      "source": [
        "from collections import Counter\n",
        "\n",
        "input_string = input(\"Enter a string: \")\n",
        "char_frequency = Counter(input_string)\n",
        "print(dict(char_frequency))"
      ],
      "metadata": {
        "colab": {
          "base_uri": "https://localhost:8080/"
        },
        "id": "_pe_cbXB5T32",
        "outputId": "ee0ef543-2024-4de2-c674-ebcffb9a832c"
      },
      "execution_count": 12,
      "outputs": [
        {
          "output_type": "stream",
          "name": "stdout",
          "text": [
            "Enter a string: python programming\n",
            "{'p': 2, 'y': 1, 't': 1, 'h': 1, 'o': 2, 'n': 2, ' ': 1, 'r': 2, 'g': 2, 'a': 1, 'm': 2, 'i': 1}\n"
          ]
        }
      ]
    }
  ]
}